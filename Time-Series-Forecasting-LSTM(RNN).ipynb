{
 "cells": [
  {
   "cell_type": "code",
   "execution_count": 1,
   "metadata": {},
   "outputs": [],
   "source": [
    "# Import libraries\n",
    "import pandas as pd\n",
    "import numpy as np\n",
    "# %matplotlib inline\n",
    "from datetime import datetime\n",
    "import matplotlib.pyplot as plt\n",
    "\n",
    "# Load specific forecasting tools\n",
    "from sklearn.preprocessing import MinMaxScaler\n",
    "from tensorflow.keras.preprocessing.sequence import TimeseriesGenerator\n",
    "from tensorflow.keras.models import Sequential\n",
    "from tensorflow.keras.layers import Dense, LSTM\n",
    "\n",
    "# Load specific evaluation tools\n",
    "from sklearn.metrics import mean_squared_error\n",
    "from statsmodels.tools.eval_measures import rmse\n",
    "\n",
    "# Ignore harmless warnings\n",
    "import warnings\n",
    "warnings.filterwarnings(\"ignore\")\n"
   ]
  },
  {
   "cell_type": "code",
   "execution_count": 2,
   "metadata": {},
   "outputs": [
    {
     "data": {
      "text/html": [
       "<div>\n",
       "<style scoped>\n",
       "    .dataframe tbody tr th:only-of-type {\n",
       "        vertical-align: middle;\n",
       "    }\n",
       "\n",
       "    .dataframe tbody tr th {\n",
       "        vertical-align: top;\n",
       "    }\n",
       "\n",
       "    .dataframe thead th {\n",
       "        text-align: right;\n",
       "    }\n",
       "</style>\n",
       "<table border=\"1\" class=\"dataframe\">\n",
       "  <thead>\n",
       "    <tr style=\"text-align: right;\">\n",
       "      <th></th>\n",
       "      <th>prop</th>\n",
       "    </tr>\n",
       "    <tr>\n",
       "      <th>date</th>\n",
       "      <th></th>\n",
       "    </tr>\n",
       "  </thead>\n",
       "  <tbody>\n",
       "    <tr>\n",
       "      <td>2004-01-01</td>\n",
       "      <td>83</td>\n",
       "    </tr>\n",
       "    <tr>\n",
       "      <td>2004-02-01</td>\n",
       "      <td>82</td>\n",
       "    </tr>\n",
       "    <tr>\n",
       "      <td>2004-03-01</td>\n",
       "      <td>87</td>\n",
       "    </tr>\n",
       "    <tr>\n",
       "      <td>2004-04-01</td>\n",
       "      <td>91</td>\n",
       "    </tr>\n",
       "    <tr>\n",
       "      <td>2004-05-01</td>\n",
       "      <td>96</td>\n",
       "    </tr>\n",
       "  </tbody>\n",
       "</table>\n",
       "</div>"
      ],
      "text/plain": [
       "            prop\n",
       "date            \n",
       "2004-01-01    83\n",
       "2004-02-01    82\n",
       "2004-03-01    87\n",
       "2004-04-01    91\n",
       "2004-05-01    96"
      ]
     },
     "execution_count": 2,
     "metadata": {},
     "output_type": "execute_result"
    }
   ],
   "source": [
    "# Load datasets\n",
    "car = pd.read_csv('car.csv')\n",
    "                    \n",
    "# Add the date column\n",
    "car['Year'] = car.index // 12 + 2004\n",
    "car['Month'].apply(lambda x: datetime.strptime(str(x), '%b-%d'))\n",
    "\n",
    "car['mon'] = car['Month'].apply(lambda x: datetime.strptime(x, '%b-%d'))\n",
    "car['month'] = car['mon'].dt.month\n",
    "car['day'] = car['mon'].dt.day\n",
    "car = car.drop(columns='mon')\n",
    "car['date'] = pd.to_datetime({'year':car['Year'],'month':car['month'],'day': 1})\n",
    "car = car.drop(columns=['Year','month', 'day', 'Month'])\n",
    "\n",
    "car['date'] = pd.to_datetime(car['date'])\n",
    "car = car.set_index('date')\n",
    "\n",
    "# rename columns\n",
    "car.columns = ['prop']\n",
    "car.head()"
   ]
  },
  {
   "cell_type": "code",
   "execution_count": 3,
   "metadata": {},
   "outputs": [
    {
     "name": "stdout",
     "output_type": "stream",
     "text": [
      "train.shape: \n",
      "(179, 1)\n"
     ]
    }
   ],
   "source": [
    "# split the data into train/test sets\n",
    "train=car.iloc[:(len(car) - 18)] # a year and a half\n",
    "test=car.iloc[(len(car) - 18):]\n",
    "\n",
    "print(\"train.shape: \")\n",
    "print(train.shape)"
   ]
  },
  {
   "cell_type": "code",
   "execution_count": 4,
   "metadata": {},
   "outputs": [],
   "source": [
    "# scale data\n",
    "scaler = MinMaxScaler()\n",
    "scaler.fit(train)\n",
    "scaled_train = scaler.transform(train)\n",
    "scaled_test = scaler.transform(test)"
   ]
  },
  {
   "cell_type": "code",
   "execution_count": 5,
   "metadata": {},
   "outputs": [],
   "source": [
    "# define generator \n",
    "past = 12 # for each month, we use its past 12 months data to predic the next month\n",
    "features = 1 \n",
    "generator = TimeseriesGenerator(scaled_train, scaled_train, length=past, batch_size=features)"
   ]
  },
  {
   "cell_type": "code",
   "execution_count": 6,
   "metadata": {},
   "outputs": [
    {
     "name": "stdout",
     "output_type": "stream",
     "text": [
      "Model: \"sequential\"\n",
      "_________________________________________________________________\n",
      "Layer (type)                 Output Shape              Param #   \n",
      "=================================================================\n",
      "lstm (LSTM)                  (None, 8)                 320       \n",
      "_________________________________________________________________\n",
      "dense (Dense)                (None, 1)                 9         \n",
      "=================================================================\n",
      "Total params: 329\n",
      "Trainable params: 329\n",
      "Non-trainable params: 0\n",
      "_________________________________________________________________\n"
     ]
    }
   ],
   "source": [
    "# create the Model\n",
    "model = Sequential()\n",
    "model.add(LSTM(8, activation='relu', input_shape=(past, features)))\n",
    "model.add(Dense(1))\n",
    "model.compile(optimizer='adam', loss='mse')\n",
    "model.summary()"
   ]
  },
  {
   "cell_type": "code",
   "execution_count": 7,
   "metadata": {},
   "outputs": [
    {
     "name": "stdout",
     "output_type": "stream",
     "text": [
      "WARNING:tensorflow:From <ipython-input-7-9fb5b5d15aca>:1: Model.fit_generator (from tensorflow.python.keras.engine.training) is deprecated and will be removed in a future version.\n",
      "Instructions for updating:\n",
      "Please use Model.fit, which supports generators.\n",
      "Epoch 1/25\n",
      "167/167 [==============================] - 1s 6ms/step - loss: 0.0332\n",
      "Epoch 2/25\n",
      "167/167 [==============================] - 1s 6ms/step - loss: 0.0277\n",
      "Epoch 3/25\n",
      "167/167 [==============================] - 1s 6ms/step - loss: 0.0268\n",
      "Epoch 4/25\n",
      "167/167 [==============================] - 1s 7ms/step - loss: 0.0250\n",
      "Epoch 5/25\n",
      "167/167 [==============================] - 1s 6ms/step - loss: 0.0215\n",
      "Epoch 6/25\n",
      "167/167 [==============================] - 1s 6ms/step - loss: 0.0156\n",
      "Epoch 7/25\n",
      "167/167 [==============================] - 1s 5ms/step - loss: 0.0105\n",
      "Epoch 8/25\n",
      "167/167 [==============================] - 1s 5ms/step - loss: 0.0106\n",
      "Epoch 9/25\n",
      "167/167 [==============================] - 1s 5ms/step - loss: 0.0077\n",
      "Epoch 10/25\n",
      "167/167 [==============================] - 1s 5ms/step - loss: 0.0073\n",
      "Epoch 11/25\n",
      "167/167 [==============================] - 1s 5ms/step - loss: 0.0064\n",
      "Epoch 12/25\n",
      "167/167 [==============================] - 1s 5ms/step - loss: 0.0059\n",
      "Epoch 13/25\n",
      "167/167 [==============================] - 1s 5ms/step - loss: 0.0069\n",
      "Epoch 14/25\n",
      "167/167 [==============================] - 1s 5ms/step - loss: 0.0059\n",
      "Epoch 15/25\n",
      "167/167 [==============================] - 1s 6ms/step - loss: 0.0057\n",
      "Epoch 16/25\n",
      "167/167 [==============================] - 1s 5ms/step - loss: 0.0063\n",
      "Epoch 17/25\n",
      "167/167 [==============================] - 1s 5ms/step - loss: 0.0053\n",
      "Epoch 18/25\n",
      "167/167 [==============================] - 1s 5ms/step - loss: 0.0055\n",
      "Epoch 19/25\n",
      "167/167 [==============================] - 1s 5ms/step - loss: 0.0052\n",
      "Epoch 20/25\n",
      "167/167 [==============================] - 1s 6ms/step - loss: 0.0054\n",
      "Epoch 21/25\n",
      "167/167 [==============================] - 1s 6ms/step - loss: 0.0047\n",
      "Epoch 22/25\n",
      "167/167 [==============================] - 1s 5ms/step - loss: 0.0049\n",
      "Epoch 23/25\n",
      "167/167 [==============================] - 1s 7ms/step - loss: 0.0048\n",
      "Epoch 24/25\n",
      "167/167 [==============================] - 1s 8ms/step - loss: 0.0047\n",
      "Epoch 25/25\n",
      "167/167 [==============================] - 1s 6ms/step - loss: 0.0046\n"
     ]
    },
    {
     "data": {
      "text/plain": [
       "<tensorflow.python.keras.callbacks.History at 0x13ad57450>"
      ]
     },
     "execution_count": 7,
     "metadata": {},
     "output_type": "execute_result"
    }
   ],
   "source": [
    "model.fit_generator(generator,epochs=25)"
   ]
  },
  {
   "cell_type": "code",
   "execution_count": 8,
   "metadata": {},
   "outputs": [],
   "source": [
    "# Evaluate test data\n",
    "def predictn(data):\n",
    "    mypred = []\n",
    "    eval_batch1 = scaled_train[-past:]\n",
    "    cur_batch = eval_batch1.reshape((1, past, features))\n",
    "    for i in range(len(data)):    \n",
    "        new_pred = model.predict(cur_batch)[0]\n",
    "        mypred.append(new_pred) \n",
    "        cur_batch = np.append(cur_batch[:,1:,:],[[new_pred]],axis=1)\n",
    "    return mypred\n"
   ]
  },
  {
   "cell_type": "code",
   "execution_count": 9,
   "metadata": {
    "scrolled": true
   },
   "outputs": [
    {
     "data": {
      "text/plain": [
       "<matplotlib.axes._subplots.AxesSubplot at 0x14493cdd0>"
      ]
     },
     "execution_count": 9,
     "metadata": {},
     "output_type": "execute_result"
    },
    {
     "data": {
      "image/png": "[encoded data removed]",
      "text/plain": [
       "<Figure size 432x288 with 1 Axes>"
      ]
     },
     "metadata": {
      "needs_background": "light"
     },
     "output_type": "display_data"
    }
   ],
   "source": [
    "pred_test = predictn(test)\n",
    "inv_pred_test = scaler.inverse_transform(pred_test)\n",
    "\n",
    "# compare actual test and our predictions\n",
    "test['Predictions'] = inv_pred_test\n",
    "test.plot()"
   ]
  },
  {
   "cell_type": "markdown",
   "metadata": {},
   "source": [
    "### Predict one year into the future"
   ]
  },
  {
   "cell_type": "code",
   "execution_count": 10,
   "metadata": {},
   "outputs": [],
   "source": [
    "train=car.iloc[:len(car)]\n",
    "test = car.iloc[len(car)-12:] # need the shape of it, value does not matter\n",
    "    \n",
    "# scale data\n",
    "scaler = MinMaxScaler()\n",
    "scaler.fit(train)\n",
    "scaled_train = scaler.transform(train)\n",
    "scaled_test = scaler.transform(test)\n",
    "                 "
   ]
  },
  {
   "cell_type": "code",
   "execution_count": 11,
   "metadata": {},
   "outputs": [],
   "source": [
    "# define generator \n",
    "past = 12\n",
    "features = 1 \n",
    "generator = TimeseriesGenerator(scaled_train, scaled_train, length=past, batch_size=features)"
   ]
  },
  {
   "cell_type": "code",
   "execution_count": 12,
   "metadata": {},
   "outputs": [
    {
     "name": "stdout",
     "output_type": "stream",
     "text": [
      "Model: \"sequential_1\"\n",
      "_________________________________________________________________\n",
      "Layer (type)                 Output Shape              Param #   \n",
      "=================================================================\n",
      "lstm_1 (LSTM)                (None, 8)                 320       \n",
      "_________________________________________________________________\n",
      "dense_1 (Dense)              (None, 1)                 9         \n",
      "=================================================================\n",
      "Total params: 329\n",
      "Trainable params: 329\n",
      "Non-trainable params: 0\n",
      "_________________________________________________________________\n"
     ]
    }
   ],
   "source": [
    "# create the Model\n",
    "model = Sequential()\n",
    "model.add(LSTM(8, activation='relu', input_shape=(past, features)))\n",
    "model.add(Dense(1))\n",
    "model.compile(optimizer='adam', loss='mse')\n",
    "model.summary()"
   ]
  },
  {
   "cell_type": "code",
   "execution_count": 13,
   "metadata": {},
   "outputs": [
    {
     "name": "stdout",
     "output_type": "stream",
     "text": [
      "Epoch 1/25\n",
      "185/185 [==============================] - 1s 7ms/step - loss: 0.0452\n",
      "Epoch 2/25\n",
      "185/185 [==============================] - 1s 7ms/step - loss: 0.0281\n",
      "Epoch 3/25\n",
      "185/185 [==============================] - 2s 8ms/step - loss: 0.0272\n",
      "Epoch 4/25\n",
      "185/185 [==============================] - 2s 10ms/step - loss: 0.0248\n",
      "Epoch 5/25\n",
      "185/185 [==============================] - 2s 10ms/step - loss: 0.0215\n",
      "Epoch 6/25\n",
      "185/185 [==============================] - 1s 8ms/step - loss: 0.0161\n",
      "Epoch 7/25\n",
      "185/185 [==============================] - 1s 7ms/step - loss: 0.0114\n",
      "Epoch 8/25\n",
      "185/185 [==============================] - 2s 8ms/step - loss: 0.0115\n",
      "Epoch 9/25\n",
      "185/185 [==============================] - 1s 8ms/step - loss: 0.0112\n",
      "Epoch 10/25\n",
      "185/185 [==============================] - 2s 12ms/step - loss: 0.0112\n",
      "Epoch 11/25\n",
      "185/185 [==============================] - 2s 11ms/step - loss: 0.0110\n",
      "Epoch 12/25\n",
      "185/185 [==============================] - 2s 12ms/step - loss: 0.0099\n",
      "Epoch 13/25\n",
      "185/185 [==============================] - 2s 12ms/step - loss: 0.0097\n",
      "Epoch 14/25\n",
      "185/185 [==============================] - 2s 10ms/step - loss: 0.0095\n",
      "Epoch 15/25\n",
      "185/185 [==============================] - 2s 10ms/step - loss: 0.0099\n",
      "Epoch 16/25\n",
      "185/185 [==============================] - 1s 7ms/step - loss: 0.0086\n",
      "Epoch 17/25\n",
      "185/185 [==============================] - 1s 7ms/step - loss: 0.0094\n",
      "Epoch 18/25\n",
      "185/185 [==============================] - 1s 8ms/step - loss: 0.0086\n",
      "Epoch 19/25\n",
      "185/185 [==============================] - 2s 8ms/step - loss: 0.0087\n",
      "Epoch 20/25\n",
      "185/185 [==============================] - 1s 7ms/step - loss: 0.0090\n",
      "Epoch 21/25\n",
      "185/185 [==============================] - 1s 7ms/step - loss: 0.0077\n",
      "Epoch 22/25\n",
      "185/185 [==============================] - 1s 7ms/step - loss: 0.0076\n",
      "Epoch 23/25\n",
      "185/185 [==============================] - 1s 6ms/step - loss: 0.0074\n",
      "Epoch 24/25\n",
      "185/185 [==============================] - 1s 6ms/step - loss: 0.0076\n",
      "Epoch 25/25\n",
      "185/185 [==============================] - 1s 6ms/step - loss: 0.0079\n"
     ]
    },
    {
     "data": {
      "text/plain": [
       "<tensorflow.python.keras.callbacks.History at 0x144974f50>"
      ]
     },
     "execution_count": 13,
     "metadata": {},
     "output_type": "execute_result"
    }
   ],
   "source": [
    "model.fit_generator(generator,epochs=25)"
   ]
  },
  {
   "cell_type": "code",
   "execution_count": 14,
   "metadata": {},
   "outputs": [],
   "source": [
    "# Evaluate test data\n",
    "def predictn(data):\n",
    "    mypred = []\n",
    "    eval_batch1 = scaled_train[-past:]\n",
    "    cur_batch = eval_batch1.reshape((1, past, features))\n",
    "    for i in range(len(data)):    \n",
    "        new_pred = model.predict(cur_batch)[0]\n",
    "        mypred.append(new_pred) \n",
    "        cur_batch = np.append(cur_batch[:,1:,:],[[new_pred]],axis=1)\n",
    "    return mypred"
   ]
  },
  {
   "cell_type": "code",
   "execution_count": 15,
   "metadata": {},
   "outputs": [],
   "source": [
    "pred_test = predictn(test)\n",
    "inv_pred_test = scaler.inverse_transform(pred_test)"
   ]
  },
  {
   "cell_type": "code",
   "execution_count": 16,
   "metadata": {},
   "outputs": [
    {
     "data": {
      "text/html": [
       "<div>\n",
       "<style scoped>\n",
       "    .dataframe tbody tr th:only-of-type {\n",
       "        vertical-align: middle;\n",
       "    }\n",
       "\n",
       "    .dataframe tbody tr th {\n",
       "        vertical-align: top;\n",
       "    }\n",
       "\n",
       "    .dataframe thead th {\n",
       "        text-align: right;\n",
       "    }\n",
       "</style>\n",
       "<table border=\"1\" class=\"dataframe\">\n",
       "  <thead>\n",
       "    <tr style=\"text-align: right;\">\n",
       "      <th></th>\n",
       "      <th>prop</th>\n",
       "    </tr>\n",
       "    <tr>\n",
       "      <th>date</th>\n",
       "      <th></th>\n",
       "    </tr>\n",
       "  </thead>\n",
       "  <tbody>\n",
       "    <tr>\n",
       "      <td>2020-01-01</td>\n",
       "      <td>86</td>\n",
       "    </tr>\n",
       "    <tr>\n",
       "      <td>2020-02-01</td>\n",
       "      <td>87</td>\n",
       "    </tr>\n",
       "    <tr>\n",
       "      <td>2020-03-01</td>\n",
       "      <td>69</td>\n",
       "    </tr>\n",
       "    <tr>\n",
       "      <td>2020-04-01</td>\n",
       "      <td>64</td>\n",
       "    </tr>\n",
       "    <tr>\n",
       "      <td>2020-05-01</td>\n",
       "      <td>78</td>\n",
       "    </tr>\n",
       "  </tbody>\n",
       "</table>\n",
       "</div>"
      ],
      "text/plain": [
       "            prop\n",
       "date            \n",
       "2020-01-01    86\n",
       "2020-02-01    87\n",
       "2020-03-01    69\n",
       "2020-04-01    64\n",
       "2020-05-01    78"
      ]
     },
     "execution_count": 16,
     "metadata": {},
     "output_type": "execute_result"
    }
   ],
   "source": [
    "# rename columns\n",
    "car.columns = ['prop']\n",
    "car.tail()"
   ]
  },
  {
   "cell_type": "code",
   "execution_count": 17,
   "metadata": {},
   "outputs": [],
   "source": [
    "def predictn_dates(n):\n",
    "    last = car.index.values[-1]\n",
    "    start = last + np.timedelta64(1,'D')\n",
    "    pred_dates = pd.date_range(start=start, periods=n, freq='MS').tolist()\n",
    "    return pred_dates"
   ]
  },
  {
   "cell_type": "code",
   "execution_count": 18,
   "metadata": {
    "scrolled": true
   },
   "outputs": [],
   "source": [
    "n = 12 # predict one year\n",
    "pred_dates = predictn_dates(n)\n"
   ]
  },
  {
   "cell_type": "code",
   "execution_count": 19,
   "metadata": {},
   "outputs": [],
   "source": [
    "inv_pred_test # convert to lst\n",
    "len_inv = len(inv_pred_test)\n",
    "lst = [0] * (len_inv)\n",
    "for i in range(len_inv):\n",
    "    lst[i] = inv_pred_test[i][0]\n",
    "#pre_ser = pd.Series(arr)  "
   ]
  },
  {
   "cell_type": "code",
   "execution_count": 20,
   "metadata": {},
   "outputs": [
    {
     "data": {
      "text/plain": [
       "2020-06-01    76.756198\n",
       "2020-07-01    78.132980\n",
       "2020-08-01    79.363201\n",
       "2020-09-01    80.841340\n",
       "2020-10-01    82.546280\n",
       "2020-11-01    83.937518\n",
       "2020-12-01    83.494046\n",
       "2021-01-01    80.282714\n",
       "2021-02-01    76.105250\n",
       "2021-03-01    72.426314\n",
       "2021-04-01    70.850077\n",
       "2021-05-01    70.564605\n",
       "dtype: float64"
      ]
     },
     "execution_count": 20,
     "metadata": {},
     "output_type": "execute_result"
    }
   ],
   "source": [
    "ser = pd.Series(lst, index=pred_dates)\n",
    "ser"
   ]
  },
  {
   "cell_type": "code",
   "execution_count": 21,
   "metadata": {},
   "outputs": [
    {
     "data": {
      "text/html": [
       "<div>\n",
       "<style scoped>\n",
       "    .dataframe tbody tr th:only-of-type {\n",
       "        vertical-align: middle;\n",
       "    }\n",
       "\n",
       "    .dataframe tbody tr th {\n",
       "        vertical-align: top;\n",
       "    }\n",
       "\n",
       "    .dataframe thead th {\n",
       "        text-align: right;\n",
       "    }\n",
       "</style>\n",
       "<table border=\"1\" class=\"dataframe\">\n",
       "  <thead>\n",
       "    <tr style=\"text-align: right;\">\n",
       "      <th></th>\n",
       "      <th>prop</th>\n",
       "    </tr>\n",
       "  </thead>\n",
       "  <tbody>\n",
       "    <tr>\n",
       "      <td>2020-06-01</td>\n",
       "      <td>76.756198</td>\n",
       "    </tr>\n",
       "    <tr>\n",
       "      <td>2020-07-01</td>\n",
       "      <td>78.132980</td>\n",
       "    </tr>\n",
       "    <tr>\n",
       "      <td>2020-08-01</td>\n",
       "      <td>79.363201</td>\n",
       "    </tr>\n",
       "    <tr>\n",
       "      <td>2020-09-01</td>\n",
       "      <td>80.841340</td>\n",
       "    </tr>\n",
       "    <tr>\n",
       "      <td>2020-10-01</td>\n",
       "      <td>82.546280</td>\n",
       "    </tr>\n",
       "  </tbody>\n",
       "</table>\n",
       "</div>"
      ],
      "text/plain": [
       "                 prop\n",
       "2020-06-01  76.756198\n",
       "2020-07-01  78.132980\n",
       "2020-08-01  79.363201\n",
       "2020-09-01  80.841340\n",
       "2020-10-01  82.546280"
      ]
     },
     "execution_count": 21,
     "metadata": {},
     "output_type": "execute_result"
    }
   ],
   "source": [
    "df2 = pd.DataFrame(ser, columns=['prop'])\n",
    "df2.head()"
   ]
  },
  {
   "cell_type": "code",
   "execution_count": 22,
   "metadata": {},
   "outputs": [
    {
     "data": {
      "text/plain": [
       "<Figure size 432x288 with 0 Axes>"
      ]
     },
     "metadata": {},
     "output_type": "display_data"
    },
    {
     "data": {
      "image/png": "[encoded data removed]",
      "text/plain": [
       "<Figure size 1080x648 with 1 Axes>"
      ]
     },
     "metadata": {
      "needs_background": "light"
     },
     "output_type": "display_data"
    }
   ],
   "source": [
    "fig = plt.figure()\n",
    "plt.figure(figsize=(15,9))\n",
    "plt.plot(train, label = 'real proportion')\n",
    "plt.plot(df2, label = 'predicted proportion')\n",
    "plt.ylabel('proportion of searching for Car: (Canada)', fontsize=18)\n",
    "plt.legend()\n",
    "plt.show()\n",
    "# fig.savefig('predict.jpg')"
   ]
  },
  {
   "cell_type": "code",
   "execution_count": null,
   "metadata": {},
   "outputs": [],
   "source": []
  }
 ],
 "metadata": {
  "kernelspec": {
   "display_name": "Python 3",
   "language": "python",
   "name": "python3"
  },
  "language_info": {
   "codemirror_mode": {
    "name": "ipython",
    "version": 3
   },
   "file_extension": ".py",
   "mimetype": "text/x-python",
   "name": "python",
   "nbconvert_exporter": "python",
   "pygments_lexer": "ipython3",
   "version": "3.7.4"
  }
 },
 "nbformat": 4,
 "nbformat_minor": 2
}
